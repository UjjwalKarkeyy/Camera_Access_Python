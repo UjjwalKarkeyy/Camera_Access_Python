{
 "cells": [
  {
   "cell_type": "markdown",
   "id": "e062c726",
   "metadata": {},
   "source": [
    "## Importing Dependencies"
   ]
  },
  {
   "cell_type": "code",
   "execution_count": 33,
   "id": "bab258f4",
   "metadata": {},
   "outputs": [],
   "source": [
    "# Importing OpenCV for computer vision stuff\n",
    "import cv2\n",
    "\n",
    "# Importing matplotlib for visualizing captured images\n",
    "from matplotlib import pyplot as plt\n",
    "\n",
    "# Importing warnings to ignore it XD\n",
    "import warnings\n",
    "warnings.filterwarnings('ignore')\n",
    "\n",
    "# Import the YOLO module from the ultralytics library.\n",
    "from ultralytics import YOLO"
   ]
  },
  {
   "cell_type": "markdown",
   "id": "285e99e7",
   "metadata": {},
   "source": [
    "## Connecting to the WebCam"
   ]
  },
  {
   "cell_type": "code",
   "execution_count": 25,
   "id": "7fa09fae",
   "metadata": {},
   "outputs": [],
   "source": [
    "# # Creating a connection with the webcam by passing the index (device number) we think is for the webcam\n",
    "# # If zero is not the index, then we'll have to iterate through values to find the one that works\n",
    "\n",
    "# # By default OpenCV expects YUYV format of compressed but my default is MJPG, so forcing OpenCV to consider MJPG\n",
    "# cap = cv2.VideoCapture(0)\n",
    "# cap.set(cv2.CAP_PROP_FOURCC, cv2.VideoWriter_fourcc(*'MJPG'))"
   ]
  },
  {
   "cell_type": "code",
   "execution_count": 26,
   "id": "96971aed",
   "metadata": {},
   "outputs": [],
   "source": [
    "# # Now we try to see the frame of the capture device\n",
    "# # 'ret' stands for return which is either true or false depending on the connection.\n",
    "# ret, frame = cap.read()"
   ]
  },
  {
   "cell_type": "code",
   "execution_count": 27,
   "id": "7ee255dd",
   "metadata": {},
   "outputs": [],
   "source": [
    "## Checking return\n",
    "# ret"
   ]
  },
  {
   "cell_type": "code",
   "execution_count": 28,
   "id": "a427a16d",
   "metadata": {},
   "outputs": [],
   "source": [
    "## Visualizing frame using matplotlib\n",
    "# plt.imshow(frame)"
   ]
  },
  {
   "cell_type": "code",
   "execution_count": 29,
   "id": "49e85a2a",
   "metadata": {},
   "outputs": [],
   "source": [
    "# # Releasing the video capture or say turning off the camera\n",
    "# cap.release()"
   ]
  },
  {
   "cell_type": "code",
   "execution_count": null,
   "id": "362a03ac",
   "metadata": {},
   "outputs": [],
   "source": [
    "# Creating a function for all this work\n",
    "\n",
    "def take_photo():\n",
    "    cap = cv2.VideoCapture(0)\n",
    "    cap.set(cv2.CAP_PROP_FOURCC, cv2.VideoWriter_fourcc(*'MJPG'))\n",
    "    is_frame, frame = cap.read()\n",
    "    if (is_frame):\n",
    "        cv2.imwrite(\"image.jpg\", frame)\n",
    "    else:\n",
    "        print(\"Webcam not found!\")\n",
    "    cap.release()"
   ]
  },
  {
   "cell_type": "code",
   "execution_count": null,
   "id": "e02aacd1",
   "metadata": {},
   "outputs": [],
   "source": [
    "# Calling the function\n",
    "take_photo()"
   ]
  },
  {
   "cell_type": "markdown",
   "id": "5a70f830",
   "metadata": {},
   "source": [
    "## Rendering in Real Time"
   ]
  },
  {
   "cell_type": "code",
   "execution_count": null,
   "id": "61262b85",
   "metadata": {},
   "outputs": [],
   "source": []
  }
 ],
 "metadata": {
  "kernelspec": {
   "display_name": "Python 3",
   "language": "python",
   "name": "python3"
  },
  "language_info": {
   "codemirror_mode": {
    "name": "ipython",
    "version": 3
   },
   "file_extension": ".py",
   "mimetype": "text/x-python",
   "name": "python",
   "nbconvert_exporter": "python",
   "pygments_lexer": "ipython3",
   "version": "3.10.12"
  }
 },
 "nbformat": 4,
 "nbformat_minor": 5
}
