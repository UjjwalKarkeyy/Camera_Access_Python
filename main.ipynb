{
 "cells": [
  {
   "cell_type": "markdown",
   "id": "d8ad7378",
   "metadata": {},
   "source": [
    "# Using Cam through WSL\n",
    "\n",
    "\n",
    "## Follow this link:\n",
    "https://github.com/dorssel/usbipd-win/wiki/WSL-support\n",
    "\n"
   ]
  },
  {
   "cell_type": "markdown",
   "id": "e062c726",
   "metadata": {},
   "source": [
    "## Importing Dependencies"
   ]
  },
  {
   "cell_type": "code",
   "execution_count": 40,
   "id": "bab258f4",
   "metadata": {},
   "outputs": [],
   "source": [
    "# Importing OpenCV for computer vision stuff\n",
    "import cv2\n",
    "\n",
    "# Importing matplotlib for visualizing captured images\n",
    "from matplotlib import pyplot as plt\n",
    "\n",
    "# Importing warnings to ignore it XD\n",
    "import warnings\n",
    "warnings.filterwarnings('ignore')\n",
    "\n",
    "# Import the YOLO module from the ultralytics library.\n",
    "from ultralytics import YOLO\n",
    "\n",
    "import os\n",
    "import torch"
   ]
  },
  {
   "cell_type": "markdown",
   "id": "285e99e7",
   "metadata": {},
   "source": [
    "## Connecting to the WebCam"
   ]
  },
  {
   "cell_type": "code",
   "execution_count": 41,
   "id": "7fa09fae",
   "metadata": {},
   "outputs": [],
   "source": [
    "# # Creating a connection with the webcam by passing the index (device number) we think is for the webcam\n",
    "# # If zero is not the index, then we'll have to iterate through values to find the one that works\n",
    "\n",
    "# # By default OpenCV expects YUYV format of compressed but my default is MJPG, so forcing OpenCV to consider MJPG\n",
    "# cap = cv2.VideoCapture(0)\n",
    "# cap.set(cv2.CAP_PROP_FOURCC, cv2.VideoWriter_fourcc(*'MJPG'))"
   ]
  },
  {
   "cell_type": "code",
   "execution_count": 42,
   "id": "96971aed",
   "metadata": {},
   "outputs": [],
   "source": [
    "# # Now we try to see the frame of the capture device\n",
    "# # 'ret' stands for return which is either true or false depending on the connection.\n",
    "# ret, frame = cap.read()"
   ]
  },
  {
   "cell_type": "code",
   "execution_count": 43,
   "id": "7ee255dd",
   "metadata": {},
   "outputs": [],
   "source": [
    "## Checking return\n",
    "# ret"
   ]
  },
  {
   "cell_type": "code",
   "execution_count": 44,
   "id": "a427a16d",
   "metadata": {},
   "outputs": [],
   "source": [
    "## Visualizing frame using matplotlib\n",
    "# plt.imshow(frame)"
   ]
  },
  {
   "cell_type": "code",
   "execution_count": 45,
   "id": "49e85a2a",
   "metadata": {},
   "outputs": [],
   "source": [
    "# # Releasing the video capture or say turning off the camera\n",
    "# cap.release()"
   ]
  },
  {
   "cell_type": "code",
   "execution_count": 46,
   "id": "7591d6d0",
   "metadata": {},
   "outputs": [],
   "source": [
    "# Image indexes will be:\n",
    "img_indx_low = 1\n",
    "img_indx_high = 11"
   ]
  },
  {
   "cell_type": "code",
   "execution_count": 47,
   "id": "3ccfbabd",
   "metadata": {},
   "outputs": [],
   "source": [
    "def img_exists(indx_low, indx_high, file_path):\n",
    "    for i in range(indx_low,indx_high):\n",
    "        file_path += f\"image{i}.jpg\"\n",
    "        print(file_path)\n",
    "        if os.path.exists(file_path):\n",
    "            os.remove(file_path)\n",
    "        file_path = file_path[:7]"
   ]
  },
  {
   "cell_type": "code",
   "execution_count": null,
   "id": "362a03ac",
   "metadata": {},
   "outputs": [],
   "source": [
    "# Creating a function for all this work\n",
    "\n",
    "file_path = 'images/'\n",
    "\n",
    "def take_photo():\n",
    "    cap = cv2.VideoCapture(0)\n",
    "    cap.set(cv2.CAP_PROP_FOURCC, cv2.VideoWriter_fourcc(*'MJPG'))\n",
    "    \n",
    "    img_exists(img_indx_low, img_indx_high, file_path)\n",
    "    for i in range(1,11):\n",
    "        is_frame, frame = cap.read()\n",
    "        if (is_frame):\n",
    "            cv2.imwrite(f\"images/image{i}.jpg\", frame)\n",
    "        else:\n",
    "            print(\"Webcam not found!\")\n",
    "    cap.release()"
   ]
  },
  {
   "cell_type": "code",
   "execution_count": 49,
   "id": "e02aacd1",
   "metadata": {},
   "outputs": [
    {
     "name": "stdout",
     "output_type": "stream",
     "text": [
      "images/image1.jpg\n",
      "images/image2.jpg\n",
      "images/image3.jpg\n",
      "images/image4.jpg\n",
      "images/image5.jpg\n",
      "images/image6.jpg\n",
      "images/image7.jpg\n",
      "images/image8.jpg\n",
      "images/image9.jpg\n",
      "images/image10.jpg\n"
     ]
    }
   ],
   "source": [
    "# Calling the function\n",
    "take_photo()"
   ]
  },
  {
   "cell_type": "markdown",
   "id": "5a70f830",
   "metadata": {},
   "source": [
    "## YOLO for Human Detection"
   ]
  },
  {
   "cell_type": "code",
   "execution_count": 50,
   "id": "61262b85",
   "metadata": {},
   "outputs": [],
   "source": [
    "# .pt is pytorch extension for saving the weights and other values.\n",
    "# 'n' stands for nano. There are many architectures for YOLO like 's' for small, 'l' (large), 'x' (extra large), 'm' (medium)\n",
    "model = YOLO('yolov8n.pt')  "
   ]
  },
  {
   "cell_type": "code",
   "execution_count": 51,
   "id": "26a7fb87",
   "metadata": {},
   "outputs": [],
   "source": [
    "# Returning results for each image\n",
    "def is_human_count():\n",
    "    count = 0\n",
    "    for i in range(img_indx_low, img_indx_high):\n",
    "        results = model(f'images/image{i}.jpg', verbose = False)  # Verbose refers to how much detail a program or function prints to the screen.\n",
    "    \n",
    "        # checking if the result is human (i.e., index 0)\n",
    "        boxes = results[0].boxes\n",
    "        class_ids = boxes.cls  # this is a tensor of class IDs\n",
    "\n",
    "        if torch.any(class_ids == 0):\n",
    "            count += 1\n",
    "\n",
    "    return count"
   ]
  },
  {
   "cell_type": "code",
   "execution_count": 52,
   "id": "3332e368",
   "metadata": {},
   "outputs": [
    {
     "name": "stdout",
     "output_type": "stream",
     "text": [
      "Human Detected!\n"
     ]
    }
   ],
   "source": [
    "if(is_human_count() >= 6):\n",
    "    print(\"Human Detected!\") # Which will be the signal to Rasberry Pi\n",
    "\n",
    "else:\n",
    "    print(\"No Human Detected!\")\n"
   ]
  },
  {
   "cell_type": "code",
   "execution_count": null,
   "id": "62493f4f",
   "metadata": {},
   "outputs": [],
   "source": []
  }
 ],
 "metadata": {
  "kernelspec": {
   "display_name": "Python 3",
   "language": "python",
   "name": "python3"
  },
  "language_info": {
   "codemirror_mode": {
    "name": "ipython",
    "version": 3
   },
   "file_extension": ".py",
   "mimetype": "text/x-python",
   "name": "python",
   "nbconvert_exporter": "python",
   "pygments_lexer": "ipython3",
   "version": "3.10.12"
  }
 },
 "nbformat": 4,
 "nbformat_minor": 5
}
