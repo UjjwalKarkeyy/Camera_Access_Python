{
 "cells": [
  {
   "cell_type": "markdown",
   "id": "e062c726",
   "metadata": {},
   "source": [
    "## Importing Dependencies"
   ]
  },
  {
   "cell_type": "markdown",
   "id": "10db95d8",
   "metadata": {},
   "source": []
  },
  {
   "cell_type": "markdown",
   "id": "285e99e7",
   "metadata": {},
   "source": [
    "## Connecting to the WebCam"
   ]
  },
  {
   "cell_type": "code",
   "execution_count": null,
   "id": "7fa09fae",
   "metadata": {
    "vscode": {
     "languageId": "plaintext"
    }
   },
   "outputs": [],
   "source": []
  },
  {
   "cell_type": "markdown",
   "id": "5a70f830",
   "metadata": {},
   "source": [
    "## Rendering in Real Time"
   ]
  },
  {
   "cell_type": "code",
   "execution_count": null,
   "id": "61262b85",
   "metadata": {
    "vscode": {
     "languageId": "plaintext"
    }
   },
   "outputs": [],
   "source": []
  }
 ],
 "metadata": {
  "language_info": {
   "name": "python"
  }
 },
 "nbformat": 4,
 "nbformat_minor": 5
}
